{
 "cells": [
  {
   "cell_type": "code",
   "execution_count": null,
   "id": "2d7804c4-aa2b-45d3-baf0-1417ea7e5038",
   "metadata": {},
   "outputs": [],
   "source": [
    "#ESERCITAZIONE W9D1-VERRECCHIA ISABELLA\n",
    "#ESERCIZIO 1: INDIVIDUA 3 TASK E SCRIVI L'ALGORITMO\n",
    "TASK 1: CUCINARE UNA FRITTATA\n",
    "1.\tAprire il frigo\n",
    "2.\tPrendere gli ingredienti: uova, cipolla, parmigiano\n",
    "3.\tPrendere la padella, l’olio e il sale\n",
    "4.\tTagliare la cipolla e metterla nella padella\n",
    "5.\tAccendere il fuoco\n",
    "6.\tRompere le uova in una ciotola e aggiungere parmigiano e sale\n",
    "7.\tSe la cipolla non è pronta, attendere altri 2 minuti\n",
    "8.\tSe la cipolla è pronta versare in padella il contenuto della ciotola\n",
    "9.\tSe la frittata non è cotta sotto, attendere\n",
    "10.\tSe è cotta girare la frittata\n",
    "11.\tA fine cottura servire su un piatto\n",
    "\n",
    "TASK 2: MANDARE LA LAVATRICE\n",
    "1.\tAprire il cesto della biancheria sporca\n",
    "2.\tSeparare i capi per tipo/colore\n",
    "3.\tMettere quelli scelti in una bacinella\n",
    "4.\tMetterli nella lavatrice\n",
    "5.\tVersare i detersivi nella vaschetta apposita\n",
    "6.\tSelezionare il programma giusto e avviare la lavatrice\n",
    "\n",
    "TASK 3: ANDARE IN PALESTRA\n",
    "1.\tPreparare la borsa con gli indumenti da palestra: maglietta, pantaloncini, scarpe e asciugamano\n",
    "2.\tPrendere la borsa e dirigersi in palestra (a piedi)\n",
    "3.\tEntrare in palestra\n",
    "4.\tEsibire il tesserino\n",
    "5.\tEntrare nello spogliatoio e cambiarsi\n",
    "6.\tEntrare nella sala e allenarsi \n",
    "7.\tDopo l’allenamento fare la doccia e cambiarsi \n",
    "8.\tAndare via \n"
   ]
  },
  {
   "cell_type": "code",
   "execution_count": null,
   "id": "597f0b5d-e9a6-4114-a34e-b56e9e2907b5",
   "metadata": {},
   "outputs": [],
   "source": [
    "#ESERCIZIO 2\n",
    "Studenti = 25\n",
    "print(Studenti)\n"
   ]
  },
  {
   "cell_type": "code",
   "execution_count": null,
   "id": "17699559-bc47-4c16-96f8-a9f87c565b33",
   "metadata": {},
   "outputs": [],
   "source": [
    "#ESERCIZIO 3\n",
    "Nuovi_Studenti = 3\n",
    "Totale_Studenti = Studenti + Nuovi_Studenti\n",
    "print(Totale_Studenti)\n"
   ]
  },
  {
   "cell_type": "code",
   "execution_count": null,
   "id": "e62179ad-6b26-4ac6-8683-7d68e35d33b1",
   "metadata": {},
   "outputs": [],
   "source": [
    "#ESERCIZIO 4\n",
    "Corso = \"Epicode\"\n",
    "print(Corso)\n"
   ]
  },
  {
   "cell_type": "code",
   "execution_count": null,
   "id": "f87bf0ac-3267-4829-9198-27c0f6d58bd9",
   "metadata": {},
   "outputs": [],
   "source": [
    "#ESERCIZIO 5\n",
    "x = 10\n",
    "nuovaX= (x+2)*3\n",
    "print(nuovaX)\n"
   ]
  },
  {
   "cell_type": "code",
   "execution_count": null,
   "id": "25e3c0ad-c5db-4e9b-9ec5-52dbf911b159",
   "metadata": {},
   "outputs": [],
   "source": [
    "#ESERCIZIO 6\n",
    "str1 = \"Windows\" \n",
    "str2 = \"Excel\" \n",
    "str3 = \"Powerpoint\" \n",
    "str4 = \"Word\"\n",
    "print(len(str1))\n",
    "print(len(str2))\n",
    "print(len(str3))\n",
    "print(len(str4))\n"
   ]
  },
  {
   "cell_type": "code",
   "execution_count": null,
   "id": "e26ee1de-0974-4cdd-9c4f-71fff8ec51eb",
   "metadata": {},
   "outputs": [],
   "source": [
    "#ESERCIZIO 6: QUANTI SECONDI CI SONO IN UN ANNO NON BISESTILE\n",
    "#365 GIORNI\n",
    "ore = 24 *365\n",
    "minuti = ore * 60\n",
    "secondi = minuti * 60\n",
    "print (secondi)\n"
   ]
  },
  {
   "cell_type": "code",
   "execution_count": null,
   "id": "2110dce3-36e3-47c5-a19b-50dc57c801f3",
   "metadata": {},
   "outputs": [],
   "source": [
    "#ESERCIZIO 7\n",
    "my_string = \"I am studying Python\"\n",
    "\n",
    "#Trasformarla in modo che tutti i caratteri siano maiuscoli (uppercase)\n",
    "print(my_string.upper())\n",
    "\n",
    "#Trasformarla in modo che tutti i caratteri siano minuscoli (lowercase)\n",
    "print(my_string.lower())\n",
    "\n",
    "#Sostituire la sottostringa \"Python\" con la stringa \"a lot\"\n",
    "print(my_string.replace(\"Python\",\"a lot\"))\n",
    "\n",
    "#Usare il metodo .strip(); cambia qualcosa? Perché? --> No non cambia nulla, perchè la funzione strip rimuove gli spazi ad inizio e fine stringa\n",
    "print(my_string.strip())\n",
    "\n",
    "#Usare il metodo .split() per trovare tutte le parole (token)\n",
    "print(my_string.split(\" \"))\n"
   ]
  },
  {
   "cell_type": "code",
   "execution_count": null,
   "id": "6fb846a0-5796-49b5-85fc-641f8d86a10b",
   "metadata": {},
   "outputs": [],
   "source": [
    "#ESERCIZIO 8\n",
    "studenti = [\"Alex\", \"Bob\", \"Cindy\", \"Dan\", \"Emma\", \"Faith\", \"Grace\", \"Henry\"] \n",
    "corsi = [\"Cybersecurity\", \"Data Analyst\", \"Backend\", \"Frontend\", \"Data Analyst\", \"Backend\"]\n",
    "#mancano 2 corsi rispetto al numero di studenti, quindi aggiungo quelli\n",
    "corsi.append(\"Cybersecurity\")\n",
    "corsi.append(\"Frontend\")\n",
    "print(studenti)\n",
    "print(corsi)\n"
   ]
  },
  {
   "cell_type": "code",
   "execution_count": null,
   "id": "77fafb05-02a6-4e56-a7b2-d82a3b5d7fb6",
   "metadata": {},
   "outputs": [],
   "source": []
  }
 ],
 "metadata": {
  "kernelspec": {
   "display_name": "Python [conda env:base] *",
   "language": "python",
   "name": "conda-base-py"
  },
  "language_info": {
   "codemirror_mode": {
    "name": "ipython",
    "version": 3
   },
   "file_extension": ".py",
   "mimetype": "text/x-python",
   "name": "python",
   "nbconvert_exporter": "python",
   "pygments_lexer": "ipython3",
   "version": "3.12.7"
  }
 },
 "nbformat": 4,
 "nbformat_minor": 5
}

{
 "cells": [
  {
   "cell_type": "code",
   "execution_count": null,
   "id": "bee3ce9d-2063-4b0b-9cf5-0dc557ca40b5",
   "metadata": {},
   "outputs": [],
   "source": [
    "#ESERCITAZIONE W10D1 - Verrecchia Isabella\n"
   ]
  },
  {
   "cell_type": "code",
   "execution_count": 5,
   "id": "608cc4e1-bfdd-4be2-83ea-9112ce4a0aed",
   "metadata": {},
   "outputs": [
    {
     "name": "stdout",
     "output_type": "stream",
     "text": [
      "13\n",
      "4\n"
     ]
    }
   ],
   "source": [
    "#ESERCIZIO 1: Abbiamo una lista di liste: Che tipo di struttura dati o matematica potrebbe rappresentare? \n",
    "#Notare che tutte le liste \"interne\" sono della stessa dimensione Come facciamo per accedere ad un elemento in particolare?\n",
    "\n",
    "mat = [[0, 1, 2, 3, 4], #Ha la struttura di una matrice\n",
    "       [5, 6, 7, 8, 9], \n",
    "       [10, 11, 12, 13, 14]]\n",
    "#per accedere al singolo elemento, bisogna indicare l'indice di riga e di colonna\n",
    "print(mat[2][3])\n",
    "print (mat[0][4])\n",
    "\n"
   ]
  },
  {
   "cell_type": "code",
   "execution_count": 16,
   "id": "17dcced6-f49a-4840-b8c6-1bded4f2066a",
   "metadata": {},
   "outputs": [
    {
     "name": "stdout",
     "output_type": "stream",
     "text": [
      "Help on built-in function sin in module math:\n",
      "\n",
      "sin(x, /)\n",
      "    Return the sine of x (measured in radians).\n",
      "\n",
      "-0.9880316240928618\n",
      "-0.7596879128588213\n",
      "120\n"
     ]
    }
   ],
   "source": [
    "#ESERCIZIO 2: Importiamo il modulo math e proviamo a usare le funzioni .sin() .cos() .factorial() \n",
    "#e la variabile .pi la riconoscete?\n",
    "import math\n",
    "\n",
    "help(math.sin) #la funzione seno e coseno ha come argomento l'angolo espresso in radianti\n",
    "print(math.sin(30))\n",
    "print(math.cos(15))\n",
    "print(math.factorial(5))\n",
    "\n",
    "#la variabile .pi è il pi-greco (3.14)"
   ]
  },
  {
   "cell_type": "code",
   "execution_count": 18,
   "id": "1e423cfa-3a8a-4751-9c40-cf4cb9c15818",
   "metadata": {},
   "outputs": [
    {
     "name": "stdout",
     "output_type": "stream",
     "text": [
      "Help on built-in function degrees in module math:\n",
      "\n",
      "degrees(x, /)\n",
      "    Convert angle x from radians to degrees.\n",
      "\n"
     ]
    }
   ],
   "source": [
    "#ESERCIZIO 3: Proviamo a eseguire math.degrees(math.pi) Qual è e cosa significa il risultato? \n",
    "#Per saperne di più su questa funzione possiamo usare help(math.degrees)\n",
    "\n",
    "math.degrees(math.pi)\n",
    "help(math.degrees)  #math.degrees converte l'angolo da radianti a gradi"
   ]
  },
  {
   "cell_type": "code",
   "execution_count": 24,
   "id": "ce31305d-7177-4812-9c5d-72c5a91e62b5",
   "metadata": {},
   "outputs": [
    {
     "name": "stdout",
     "output_type": "stream",
     "text": [
      "Requirement already satisfied: numpy in c:\\users\\isabella\\anaconda3\\lib\\site-packages (1.26.4)\n"
     ]
    }
   ],
   "source": [
    "#ESERCIZIO 4: L'azienda Object SpA ha creato una lista di quanti oggetti ha venduto ogni mese nell'ultimo anno:trasformiamola in un array NumPy (casting): \n",
    "#lst = np.array(lst) e rispondiamo alle domande del CEO della Object SpA:\n",
    "lst = [2000, 5500, 7200, 4320, 1280, 1900, 2500, 3900, 6410, 8150, 7100, 5350]\n",
    "\n",
    "!pip install numpy\n",
    "import numpy as np\n",
    "\n",
    "lst = np.array(lst)\n"
   ]
  },
  {
   "cell_type": "code",
   "execution_count": 39,
   "id": "e0e6517e-ddce-45ed-9aa6-d13a3a37f149",
   "metadata": {},
   "outputs": [
    {
     "name": "stdout",
     "output_type": "stream",
     "text": [
      "La vendita massima mensile è: 8150\n",
      "La vendita minima mensile è: 1280\n",
      "[5500 7200 6410 8150 7100 5350]\n",
      "Le vendite maggiori di 5000 sono: 6\n",
      "[2000 1280 1900 2500]\n",
      "Il valore medio delle vendite è: 4634.166666666667\n"
     ]
    }
   ],
   "source": [
    "lst = [2000, 5500, 7200, 4320, 1280, 1900, 2500, 3900, 6410, 8150, 7100, 5350]\n",
    "lst = np.array(lst)\n",
    "\n",
    "#qual è stata la vendita massima mensile? E quella minima?\n",
    "massimo = numpy.max(lst)\n",
    "print(\"La vendita massima mensile è:\", massimo)\n",
    "minimo = numpy.min(lst)\n",
    "print(\"La vendita minima mensile è:\", minimo)\n",
    "#quali sono le vendite mensili maggiori di 5000 oggetti? E quante ne sono?\n",
    "vendite_maggiori = lst > 5000\n",
    "print(lst[vendite_maggiori])\n",
    "print(\"Le vendite maggiori di 5000 sono:\", lst[vendite_maggiori].size)\n",
    "\n",
    "#quali sono le vendite minori di 3000 oggetti?\n",
    "vendite_minori = lst < 3000\n",
    "print(lst[vendite_minori])\n",
    "\n",
    "#in media quanti oggetti sono stati venduti al mese?\n",
    "media_vendite = np.mean(lst)\n",
    "print(\"Il valore medio delle vendite è:\", media_vendite)"
   ]
  },
  {
   "cell_type": "code",
   "execution_count": 40,
   "id": "19dcf25a-bd19-4011-a2ef-4ca01d2a42b8",
   "metadata": {},
   "outputs": [
    {
     "data": {
      "text/plain": [
       "12000"
      ]
     },
     "execution_count": 40,
     "metadata": {},
     "output_type": "execute_result"
    }
   ],
   "source": [
    "#ESERCIZIO 5: Consideriamo il seguente dizionario:\n",
    "\n",
    "fatturati_dict = {1997: 12_000, 1998: 15_000, 1999: 20_000, 2000: 23_000, 2001: 25_000, 2002: 17_000, 2003: 14_000, 2004: 21_000}\n",
    "#Consideriamo ora la seguente Series:\n",
    "fatturati_series = pd.Series([12_000, 15_000, 20_000, 23_000, 25_000, 17_000, 14_000, 21_000], index=range(1997, 2005))\n",
    "#Possiamo accedere alle stesse informazioni nello stesso modo: \n",
    "fatturati_dict[1997] \n",
    "fatturati_series[1997]\n",
    "\n",
    "#Dunque qual è la differenza tra i due tipi di dato? Cosa potremmo fare con la Series che non possiamo fare con il dizionario?\n",
    "#Un dizionario è una struttura dati nativa di Python, che contiene coppie chiave-valore, mentre una Series fa parte della libreria Pandas ed è \n",
    "#una colonna di dati etichettata. la differenza sostanziale è che con la Series si ha una visualizzazione tabellare e soprattutto si possono fare\n",
    "# operazioni matematiche (analizzare, filtrare e manipolare dati numerici)\n"
   ]
  },
  {
   "cell_type": "code",
   "execution_count": 43,
   "id": "46a3b721-b18c-4d88-bbc4-abc859fc62f6",
   "metadata": {},
   "outputs": [
    {
     "name": "stdout",
     "output_type": "stream",
     "text": [
      "200\n",
      "400\n",
      "600\n",
      "800\n",
      "1000\n",
      "1200\n",
      "1400\n",
      "1600\n",
      "1800\n",
      "2000\n",
      "[ 200  400  600  800 1000 1200 1400 1600 1800 2000]\n"
     ]
    }
   ],
   "source": [
    "#ESERCIZIO 6: L'azienda Object SpA ha un dataset con tutti gli stipendi dei dipendenti, memorizzato in un ndarray:\n",
    "import numpy as np \n",
    "stipendi = np.array( [100, 200, 300, 400, 500, 600, 700, 800, 900, 1000] )\n",
    "\n",
    "#L'azienda ci chiede di raddoppiare tutti gli stipendi; facciamolo in due modi:  con un ciclo for e con il masking\n",
    "\n",
    "#1 modo: for\n",
    "for stipendio in stipendi:\n",
    "    stipendio_raddoppiato= stipendio*2\n",
    "    print(stipendio_raddoppiato)\n",
    "\n",
    "#2 modo: masking\n",
    "\n",
    "stipendio_doppio= stipendi *2\n",
    "print(stipendio_doppio)"
   ]
  },
  {
   "cell_type": "code",
   "execution_count": 61,
   "id": "e6db37a9-e971-44a6-ab84-c76acd8f7212",
   "metadata": {},
   "outputs": [
    {
     "name": "stdout",
     "output_type": "stream",
     "text": [
      "[75, 63, 51]\n"
     ]
    },
    {
     "data": {
      "text/plain": [
       "[2, 6, 8, 42, 75, 15, 48, 51, 19, 24, 30, 63]"
      ]
     },
     "execution_count": 61,
     "metadata": {},
     "output_type": "execute_result"
    }
   ],
   "source": [
    "#ESERCIZIO 7: Scrivere un programma che, data una lista di numeri, fornisca in output i tre numeri più grandi; gestire il caso in cui la lista \n",
    "#sia più corta di tre, e quando uno o più dei numeri selezionati sono uguali.\n",
    "\n",
    "lista = [15, 30, 2, 63, 6, 42, 75, 24, 48, 63, 19, 51, 8] #creo una lista con valori casuali\n",
    "#lista = sorted(lista, reverse = True) #li riordino --> MEGLIO METTERLO NELL'IF\n",
    "#print(lista)\n",
    "#lista[:3]\n",
    "lista = list(set(lista)) #lo metto prima del ciclo così in automatico gestisce subito i duplicati!!!!\n",
    "\n",
    "if len(lista) >3:\n",
    "    lista = sorted(lista, reverse = True)\n",
    "    print(lista[:3])\n",
    "else:\n",
    "    print(lista)\n",
    "#per gestire i dati mancanti uso il set!\n",
    "lista = set(lista)\n",
    "lista =list (lista)\n",
    "lista"
   ]
  },
  {
   "cell_type": "code",
   "execution_count": 71,
   "id": "0b888aae-6c5a-4a12-9ee7-475cab2909dc",
   "metadata": {},
   "outputs": [
    {
     "name": "stdout",
     "output_type": "stream",
     "text": [
      "La media di tutti i numeri > K è: 47.57\n"
     ]
    }
   ],
   "source": [
    "#ESERCIZIO 8: Scrivere un programma che \n",
    "#• in input acquisisce una lista di numeri e un numero K \n",
    "#• in output, dovrà restituire la media di tutti i numeri nella lista maggiori o uguali a K \n",
    "#• se non ce ne dovesse essere nessuno, dovrà stampare a schermo un messaggio adeguato.\n",
    "\n",
    "dati = [2, 6, 8, 42, 75, 15, 48, 51, 19, 24, 30, 63]\n",
    "dati = np.array(dati) # lo trasformo in array così posso fare il calcolo della media in modo più facile\n",
    "K = 20\n",
    "\n",
    "filtro = dati >= K   #NB: AVREI FATTO CON FOR, MA USANDO ARRAY E' PIU' FACILE!!!\n",
    "media = dati[filtro].mean()\n",
    "print(\"La media di tutti i numeri > K è:\", round(media,2))\n",
    "\n",
    "#manca il caso in cui non c'è nessuno --> provo con if\n",
    "\n"
   ]
  },
  {
   "cell_type": "code",
   "execution_count": 72,
   "id": "7dd5944c-8609-4cab-bbcc-7bbbd0ddec3c",
   "metadata": {},
   "outputs": [
    {
     "name": "stdout",
     "output_type": "stream",
     "text": [
      "****\n",
      "********\n",
      "***\n",
      "**\n",
      "**********\n"
     ]
    }
   ],
   "source": [
    "#ESERCIZIO 9: Scrivere un programma che, data una lista di numeri, come output stamperà lo stesso numero di asterischi su righe diverse, \n",
    "#ottenendo una semplice visualizzazione grafica\n",
    "\n",
    "numeri = [4, 8, 3, 2, 10]\n",
    "\n",
    "for numero in numeri:\n",
    "    print(\"*\" * numero)"
   ]
  },
  {
   "cell_type": "code",
   "execution_count": 78,
   "id": "936fc357-786e-4a65-9e63-54e9b433f189",
   "metadata": {},
   "outputs": [
    {
     "name": "stdout",
     "output_type": "stream",
     "text": [
      "['ABCDEF95G01A123B', 'STUVWX95Z04A654E', 'DEFGHI95J06A987G']\n",
      "Nome: ABC Cognome: DEF\n",
      "Nome: STU Cognome: VWX\n",
      "Nome: DEF Cognome: GHI\n"
     ]
    }
   ],
   "source": [
    "#ESERCIZIO 10: Abbiamo una lista di codici fiscali:\n",
    "lista_cf = [\"ABCDEF95G01A123B\", \"GHIJKL91M02A321C\", \"MNOPQR89S03A456D\", \n",
    "            \"STUVWX95Z04A654E\", \"XYZABC01D05A789F\", \"DEFGHI95J06A987G\"]\n",
    "#trovare i codici fiscali che contengono \"95\", metterli in una lista, e alla fine stamparla;\n",
    "nuova_lista = []\n",
    "\n",
    "for codice in lista_cf:\n",
    "    if \"95\" in codice:\n",
    "        nuova_lista.append(codice)\n",
    "    \n",
    "print(nuova_lista)\n",
    "#inoltre, per ognuno di essi, stampare a video i caratteri relativi al nome e quelli relativi al cognome.        \n",
    "\n",
    "for codice in nuova_lista:   #estraggo dalla nuova lista creata solo le lettere di nome e cognome\n",
    "    print(\"Nome:\", codice[:3],\"Cognome:\", codice[3:6]) "
   ]
  },
  {
   "cell_type": "code",
   "execution_count": 84,
   "id": "66a8ebec-0f32-4262-83c9-cb2781c704c9",
   "metadata": {},
   "outputs": [
    {
     "name": "stdout",
     "output_type": "stream",
     "text": [
      "Alex\n",
      "Faith\n"
     ]
    }
   ],
   "source": [
    "#ESERCIZIO 11: Abbiamo tre liste della stessa lunghezza, dove ogni elemento nella medesima posizione si riferisce ai dati dello stesso studente: \n",
    "studenti = [\"Alex\", \"Bob\", \"Cindy\", \"Dan\", \"Emma\", \"Faith\", \"Grace\", \"Henry\"] \n",
    "corsi = [\"Cybersecurity\", \"Data Analyst\", \"Backend\", \"Frontend\", \"Data Analyst\", \"Backend\", \"Frontend\", \"Cybersecurity\"] \n",
    "edizioni = [1, 2, 3, 2, 2, 1, 3, 3] \n",
    "\n",
    "# Stampare a video tutti e soli gli studenti che frequentano una prima edizione; non tutti i dati potrebbero essere necessari.\n",
    "\n",
    "range(len(studenti)) #mi permette di scorrere negli elementi delle liste(considerato che hanno tutte la stessa lunghezza)\n",
    "\n",
    "for indice in range(len(studenti)):\n",
    "    studente = studenti[indice]  #in questo modo io associo studente e edizione all'indice che cambia con il ciclo\n",
    "    edizione = edizioni[indice]\n",
    "    if edizione ==1:\n",
    "        print(studente)"
   ]
  },
  {
   "cell_type": "code",
   "execution_count": 85,
   "id": "22311017-e631-4f11-ab88-397a44c89cc0",
   "metadata": {},
   "outputs": [
    {
     "name": "stdout",
     "output_type": "stream",
     "text": [
      "['100 $', '200 $', '500 $', '10 $', '50 $', '70 $']\n"
     ]
    }
   ],
   "source": [
    "#ESERCIZIO 10:Abbiamo una lista di stringhe di prezzi in dollari, che erroneamente sono stati scritti con il simbolo dell'euro: \n",
    "prezzi = [\"100 €\", \"200 €\", \"500 €\", \"10 €\", \"50 €\", \"70 €\"] \n",
    "#cambiare il simbolo dell'euro (€) in quello del dollaro ($) per ogni stringa nella lista; il risultato sarà memorizzato in un'altra lista.\n",
    "nuovi_prezzi = []\n",
    "\n",
    "for prezzo in prezzi:\n",
    "    nuovo_prezzo = prezzo.replace(\"€\",\"$\")\n",
    "    nuovi_prezzi.append(nuovo_prezzo)\n",
    "\n",
    "print(nuovi_prezzi)\n",
    "    "
   ]
  },
  {
   "cell_type": "code",
   "execution_count": 90,
   "id": "9cb65d98-ffec-490f-88e8-dee28cfa314b",
   "metadata": {},
   "outputs": [
    {
     "name": "stdout",
     "output_type": "stream",
     "text": [
      "squadra pari: ['Alex', 'Cindy', 'Emma', 'Grace', 'Isabelle']\n",
      "squadra dispari: ['Bob', 'Dan', 'Faith', 'Henry', 'John']\n"
     ]
    }
   ],
   "source": [
    "#ESERCIZIO 11: Abbiamo una lista di studenti: \n",
    "studenti = [\"Alex\", \"Bob\", \"Cindy\", \"Dan\", \"Emma\", \"Faith\", \"Grace\", \"Henry\", \"Isabelle\", \"John\"] \n",
    "#vogliamo dividere gli studenti in due squadre per un campionato di Uno nel seguente modo: selezioneremo i nomi in posizione pari per un squadra, \n",
    "#e i nomi in posizione dispari per l'altra. Creiamo due liste per ogni squadra, e alla fine visualizziamole.\n",
    "\n",
    "squadra_pari = studenti[::2]\n",
    "squadra_dispari = studenti[1::2]\n",
    "\n",
    "print(\"squadra pari:\", squadra_pari)\n",
    "print(\"squadra dispari:\", squadra_dispari)\n",
    "\n"
   ]
  },
  {
   "cell_type": "code",
   "execution_count": 91,
   "id": "cfe4f6fb-b0b0-4f28-9700-fae552fc9b0c",
   "metadata": {},
   "outputs": [
    {
     "name": "stdout",
     "output_type": "stream",
     "text": [
      "squadra pari: ['Alex', 'Cindy', 'Emma', 'Grace', 'Isabelle']\n",
      "squadra dispari: ['Bob', 'Dan', 'Faith', 'Henry', 'John']\n"
     ]
    }
   ],
   "source": [
    "studenti = [\"Alex\", \"Bob\", \"Cindy\", \"Dan\", \"Emma\", \"Faith\", \"Grace\", \"Henry\", \"Isabelle\", \"John\"] \n",
    "squadra_pari = []\n",
    "squadra_dispari = []\n",
    "#provo con ciclo for\n",
    "\n",
    "for indice in range(len(studenti)):\n",
    "    studente = studenti[indice]\n",
    "    if indice % 2 ==0:\n",
    "        squadra_pari.append(studente)\n",
    "    else:\n",
    "        squadra_dispari.append(studente)\n",
    "        \n",
    "print(\"squadra pari:\", squadra_pari)\n",
    "print(\"squadra dispari:\", squadra_dispari)\n"
   ]
  },
  {
   "cell_type": "code",
   "execution_count": 97,
   "id": "26301d05-baa5-4b09-8a47-7d68ed88d38e",
   "metadata": {},
   "outputs": [
    {
     "name": "stdout",
     "output_type": "stream",
     "text": [
      "Mese 1 : 100 €\n",
      "Mese 2 : 90 € - La media dei mesi precedenti è: 100.0\n",
      "Il guadagno è minore!\n",
      "Mese 3 : 70 € - La media dei mesi precedenti è: 95.0\n",
      "Il guadagno è minore!\n",
      "Mese 4 : 40 € - La media dei mesi precedenti è: 86.67\n",
      "Il guadagno è minore!\n",
      "Mese 5 : 50 € - La media dei mesi precedenti è: 75.0\n",
      "Il guadagno è minore!\n",
      "Mese 6 : 80 € - La media dei mesi precedenti è: 70.0\n",
      "Il guadagno è maggiore!\n",
      "Mese 7 : 90 € - La media dei mesi precedenti è: 71.67\n",
      "Il guadagno è maggiore!\n",
      "Mese 8 : 120 € - La media dei mesi precedenti è: 74.29\n",
      "Il guadagno è maggiore!\n",
      "Mese 9 : 80 € - La media dei mesi precedenti è: 80.0\n",
      "Il guadagno è maggiore!\n",
      "Mese 10 : 20 € - La media dei mesi precedenti è: 80.0\n",
      "Il guadagno è minore!\n",
      "Mese 11 : 50 € - La media dei mesi precedenti è: 74.0\n",
      "Il guadagno è minore!\n",
      "Mese 12 : 50 € - La media dei mesi precedenti è: 71.82\n",
      "Il guadagno è minore!\n"
     ]
    }
   ],
   "source": [
    "#ESERCIZIO 12: Esercizio Abbiamo una lista con i guadagni degli ultimi 12 mesi (supponiamo da Gennaio a Dicembre): \n",
    "guadagni = [100, 90, 70, 40, 50, 80, 90, 120, 80, 20, 50, 50] \n",
    "#dobbiamo confrontare, stampando tutto a video, il guadagno di ogni mese con la media dei guadagni precedenti, e specificare nell'output \n",
    "#se il guadagno attuale è maggiore o minore della media dei precedenti.\n",
    "\n",
    "precedenti = [] #guadagni mesi precedenti (rispetto al mese corrente)\n",
    "contatore = 1   #parto dal secondo mese, perchè dal primo non ho nessun confronto precedente da fare\n",
    "\n",
    "for guadagno in guadagni:\n",
    "    if len(precedenti)==0:\n",
    "        print(\"Mese\", contatore, \":\", guadagno, \"€\")\n",
    "    else:\n",
    "        media_mesi_precedenti = round(np.mean(precedenti),2)\n",
    "        print(\"Mese\", contatore, \":\", guadagno, \"€ - La media dei mesi precedenti è:\", media_mesi_precedenti)\n",
    "        if guadagno < media_mesi_precedenti:\n",
    "            print(\"Il guadagno è minore!\")\n",
    "        else:\n",
    "            print(\"Il guadagno è maggiore!\")\n",
    "    precedenti.append(guadagno)\n",
    "    contatore +=1\n",
    "   "
   ]
  },
  {
   "cell_type": "code",
   "execution_count": null,
   "id": "2e7ae4e7-6e11-4f1d-b247-ef5311abe209",
   "metadata": {},
   "outputs": [],
   "source": []
  }
 ],
 "metadata": {
  "kernelspec": {
   "display_name": "Python [conda env:base] *",
   "language": "python",
   "name": "conda-base-py"
  },
  "language_info": {
   "codemirror_mode": {
    "name": "ipython",
    "version": 3
   },
   "file_extension": ".py",
   "mimetype": "text/x-python",
   "name": "python",
   "nbconvert_exporter": "python",
   "pygments_lexer": "ipython3",
   "version": "3.12.7"
  }
 },
 "nbformat": 4,
 "nbformat_minor": 5
}

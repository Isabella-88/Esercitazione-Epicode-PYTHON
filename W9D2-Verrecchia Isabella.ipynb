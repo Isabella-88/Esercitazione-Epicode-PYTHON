{
 "cells": [
  {
   "cell_type": "code",
   "execution_count": null,
   "id": "e0c46842-b717-48bc-95f5-aba3cc71b401",
   "metadata": {},
   "outputs": [],
   "source": [
    "#ESERCITAZIONE W9D2\n",
    "\n",
    "#ESERCIZIO 1:Stampare ogni carattere della stringa, uno su ogni riga, utilizzando un costrutto while.\n",
    "nome_scuola = \"Epicode\"\n",
    "lunghezza=len(nome_scuola)\n",
    "lunghezza\n",
    "conteggio=0\n",
    "\n",
    "while conteggio < lunghezza:\n",
    "    print(nome_scuola[conteggio])\n",
    "    conteggio +=1"
   ]
  },
  {
   "cell_type": "code",
   "execution_count": null,
   "id": "0a46d230-3215-4102-99e9-6d65e3c4d206",
   "metadata": {},
   "outputs": [],
   "source": [
    "#ESERCIZIO 2: Stampare a video tutti i numeri da 0 a 20 utilizzando il costrutto while.\n",
    "numero = 0\n",
    "limite = 20\n",
    "\n",
    "while numero <= limite:\n",
    "    print(numero)\n",
    "    numero +=1\n",
    "\n"
   ]
  },
  {
   "cell_type": "code",
   "execution_count": null,
   "id": "5792575b-fc82-406d-8a2e-e721881b54b6",
   "metadata": {},
   "outputs": [],
   "source": [
    "#ESERCIZIO 3:Calcolare e stampare tutte le prime 10 potenze di 2 (e.g., 2⁰, 2¹, 2², …) utilizzando un ciclo while.\n",
    "numero = 2\n",
    "esponente = 0\n",
    "limite = 10\n",
    "\n",
    "while esponente <= limite:\n",
    "    print(numero, \"^\", esponente, \"=\", numero**esponente)\n",
    "    esponente +=1\n",
    "\n",
    "\n"
   ]
  },
  {
   "cell_type": "code",
   "execution_count": 59,
   "id": "032b52c7-1e36-4264-9520-fd00c57153b1",
   "metadata": {},
   "outputs": [
    {
     "name": "stdin",
     "output_type": "stream",
     "text": [
      "Inserisci un numero: 6\n"
     ]
    },
    {
     "name": "stdout",
     "output_type": "stream",
     "text": [
      "2 ^ 0 = 1\n",
      "2 ^ 1 = 2\n",
      "2 ^ 2 = 4\n",
      "2 ^ 3 = 8\n",
      "2 ^ 4 = 16\n",
      "2 ^ 5 = 32\n",
      "2 ^ 6 = 64\n"
     ]
    }
   ],
   "source": [
    "#ESERCIZIO 4: Calcolare e stampare tutte le prime N potenze di 2 utilizzando un ciclo while, domandando all'utente di inserire N.\n",
    "numero = input(\"Inserisci un numero:\")\n",
    "numero= int(numero) #casting\n",
    "base= 2 #base della mia potenza\n",
    "n=0 #contatore \n",
    "\n",
    "while n <= numero:\n",
    "    print(base, \"^\", n, \"=\", base**n)\n",
    "    n +=1"
   ]
  },
  {
   "cell_type": "code",
   "execution_count": 50,
   "id": "7d8a97b4-d00e-4d91-8907-f88791e72a35",
   "metadata": {},
   "outputs": [
    {
     "name": "stdout",
     "output_type": "stream",
     "text": [
      "1\n",
      "2\n",
      "4\n",
      "8\n",
      "16\n",
      "32\n",
      "64\n",
      "128\n",
      "256\n",
      "512\n",
      "1024\n",
      "2048\n",
      "4096\n",
      "8192\n",
      "16384\n",
      "32768\n"
     ]
    }
   ],
   "source": [
    "#ESERCIZIO 5: Calcolare e stampare tutte le potenze di 2 minori di 25000.\n",
    "base = 2\n",
    "esponente = 0\n",
    "limite = 25000\n",
    "\n",
    "while potenza < limite:\n",
    "    potenza = base ** esponente\n",
    "    print(potenza)\n",
    "    esponente += 1\n",
    "\n"
   ]
  },
  {
   "cell_type": "code",
   "execution_count": 9,
   "id": "0c8a10b6-7e26-474d-aa32-cc192a41fcfc",
   "metadata": {},
   "outputs": [
    {
     "name": "stdin",
     "output_type": "stream",
     "text": [
      "Inserire una parola a caso: penna\n"
     ]
    },
    {
     "name": "stdout",
     "output_type": "stream",
     "text": [
      "p ... a\n"
     ]
    }
   ],
   "source": [
    "#ESERCIZIO 6: Scriviamo un programma che chiede in input all'utente una stringa e visualizza i primi 3 caratteri, \n",
    "#seguiti da 3 punti di sospensione e quindi gli ultimi 3 caratteri, Stavolta facciamo attenzione a tutti i casi particolari, \n",
    "#ovvero implementare soluzioni ad hoc per stringhe di lunghezza inferiore a 6 caratteri.\n",
    "\n",
    "parola = input(\"Inserire una parola a caso:\")\n",
    "\n",
    "if len(parola) >= 6: #se la parola è più di 6 caratteri stampa i primi e gli ultimi 3 caratteri con ...in mezzo\n",
    "    print(parola[:3],\"...\", parola[-3:])\n",
    "elif 3 < len(parola) <= 5: #se la parola è compresa tra 3 e 5 caratteri stampa il primo e l'ultimo carattere con ...in mezzo\n",
    "    print(parola[:1],\"...\", parola[-1:])\n",
    "else: #se la parola è più piccola (da 3 in giù) stampa messaggio\n",
    "    print(\"Parola troppo corta!\")\n"
   ]
  },
  {
   "cell_type": "code",
   "execution_count": 54,
   "id": "af1858de-d6f2-4d8b-8664-6c8008a3d092",
   "metadata": {},
   "outputs": [
    {
     "name": "stdin",
     "output_type": "stream",
     "text": [
      "Inserire un numero intero: 40\n"
     ]
    },
    {
     "name": "stdout",
     "output_type": "stream",
     "text": [
      "2\n",
      "2\n",
      "2\n",
      "5\n"
     ]
    }
   ],
   "source": [
    "#ESERCIZIO 7: Memorizza e stampa tutti i fattori di un numero dato in input (cioè tutti i numeri primi che, moltiplicati tra di loro, \n",
    "#danno il numero di partenza).\n",
    "\n",
    "numero = input(\"Inserire un numero intero:\")\n",
    "numero = int(numero)\n",
    "divisore = 2 #devo fare la scomposizione in fattori primi del numero. parto dal numero primo più piccolo, ovvero 2\n",
    "\n",
    "\n",
    "while numero > 1:\n",
    "    if numero%divisore ==0:   #se numero/divisore dà come resto 0 \n",
    "        print(divisore)\n",
    "        numero = numero // divisore\n",
    "    else:\n",
    "        divisore +=1\n",
    "\n"
   ]
  },
  {
   "cell_type": "code",
   "execution_count": 2,
   "id": "cc11ad45-4f1c-4402-886a-8e9ffc698263",
   "metadata": {},
   "outputs": [
    {
     "name": "stdout",
     "output_type": "stream",
     "text": [
      "E\n",
      "p\n",
      "i\n",
      "c\n",
      "o\n",
      "d\n",
      "e\n"
     ]
    }
   ],
   "source": [
    "#ESERCIZIO 8: Stampare ogni carattere della stringa, uno su ogni riga, utilizzando un costrutto for.\n",
    "nome_scuola = \"Epicode\"\n",
    "\n",
    "for lettera in nome_scuola:\n",
    "    print(lettera)"
   ]
  },
  {
   "cell_type": "code",
   "execution_count": 60,
   "id": "390a76f0-4871-447d-8cd3-2b0d9e080e6b",
   "metadata": {},
   "outputs": [
    {
     "name": "stdout",
     "output_type": "stream",
     "text": [
      "2^ 0 = 1\n",
      "2^ 1 = 2\n",
      "2^ 2 = 4\n",
      "2^ 3 = 8\n",
      "2^ 4 = 16\n",
      "2^ 5 = 32\n",
      "2^ 6 = 64\n",
      "2^ 7 = 128\n",
      "2^ 8 = 256\n",
      "2^ 9 = 512\n"
     ]
    }
   ],
   "source": [
    "#ESERCIZIO 9:Calcolare e stampare tutte le prime 10 potenze di 2 utilizzando un ciclo.\n",
    "\n",
    "for numero in range(10):\n",
    "    print(\"2^\", numero, \"=\", 2**numero)"
   ]
  },
  {
   "cell_type": "code",
   "execution_count": null,
   "id": "3cb08b62-0a71-4c1c-8ffa-b5d368c43b8b",
   "metadata": {
    "scrolled": true
   },
   "outputs": [],
   "source": [
    "#ESERCIZIO 10: Calcolare (ma non stampare) le prime N potenze di K; ognuna di esse andrà memorizzata in coda a una lista. Alla fine, stampare la lista risultante. \n",
    "#Proviamo con diversi valori di K, oppure facciamola inserire all'utente.\n",
    "#Fare due versioni: una con il ciclo while e una con il ciclo for\n",
    "\n",
    "#VERSIONE CON WHILE\n",
    "\n",
    "K = input(\"Inserire un numero intero come base:\")\n",
    "K = int(K)\n",
    "N= input (\"Inserire un numero intero come esponente:\")\n",
    "N = int(N)\n",
    "i=0\n",
    "elenco_potenze = []\n",
    "\n",
    "\n",
    "while i <= N:\n",
    "    potenza = K ** i\n",
    "    elenco_potenze.append(potenza)\n",
    "    i += 1\n",
    "        \n",
    "print(\"L'elenco delle potenze è:\", elenco_potenze)"
   ]
  },
  {
   "cell_type": "code",
   "execution_count": 57,
   "id": "63ced54d-40fe-4856-85ab-bd70cbf6a05b",
   "metadata": {
    "scrolled": true
   },
   "outputs": [
    {
     "name": "stdin",
     "output_type": "stream",
     "text": [
      "Inserire un numero intero come base: 2\n",
      "Inserire un numero intero come esponente: 6\n"
     ]
    },
    {
     "name": "stdout",
     "output_type": "stream",
     "text": [
      "L'elenco delle potenze è: [1, 2, 4, 8, 16, 32]\n"
     ]
    }
   ],
   "source": [
    "#ESERCIZIO 10: Calcolare (ma non stampare) le prime N potenze di K; ognuna di esse andrà memorizzata in coda a una lista. Alla fine, stampare la lista risultante. \n",
    "#Proviamo con diversi valori di K, oppure facciamola inserire all'utente.\n",
    "#Fare due versioni: una con il ciclo while e una con il ciclo for\n",
    "\n",
    "#VERSIONE CON FOR\n",
    "\n",
    "K = input(\"Inserire un numero intero come base:\")\n",
    "K = int(K)\n",
    "N= input (\"Inserire un numero intero come esponente:\")\n",
    "N = int(N)\n",
    "lista_potenze = []\n",
    "\n",
    "\n",
    "for esponente in range(N):\n",
    "    potenza = K**esponente\n",
    "    lista_potenze.append(potenza)\n",
    "        \n",
    "print(\"L'elenco delle potenze è:\", lista_potenze)"
   ]
  },
  {
   "cell_type": "code",
   "execution_count": 5,
   "id": "d38c94d7-361b-4eb6-83ab-6db53bcad582",
   "metadata": {},
   "outputs": [
    {
     "name": "stdout",
     "output_type": "stream",
     "text": [
      "la media dei guadagni è 70.0\n"
     ]
    }
   ],
   "source": [
    "#ESERCIZIO 11: Abbiamo una lista con i guadagni degli ultimi 12 mesi:usando un costrutto for, calcolare la media dei guadagni e stamparla a video.\n",
    "guadagni = [100, 90, 70, 40, 50, 80, 90, 120, 80, 20, 50, 50]\n",
    "\n",
    "somma=0\n",
    "totale=0\n",
    "\n",
    "for guadagno in guadagni:\n",
    "    somma += guadagno\n",
    "    totale += 1\n",
    "\n",
    "print(\"la media dei guadagni è\", somma/totale)\n"
   ]
  },
  {
   "cell_type": "code",
   "execution_count": 33,
   "id": "debb05b5-6318-422b-a7c4-6306ea860be0",
   "metadata": {},
   "outputs": [
    {
     "name": "stdout",
     "output_type": "stream",
     "text": [
      "Nella parola Albergo  ci sono 1 e\n",
      "Nella parola Sedia  ci sono 1 e\n",
      "Nella parola Borgo  ci sono 0 e\n",
      "Nella parola Petalo  ci sono 1 e\n",
      "Nella parola Eremo  ci sono 2 e\n",
      "Nella parola Belvedere  ci sono 4 e\n",
      "Nella parola Semestre  ci sono 3 e\n",
      "Nella parola Esteta  ci sono 2 e\n",
      "Nella parola Sosta  ci sono 0 e\n",
      "Nella parola Orpello  ci sono 1 e\n",
      "Nella parola Abete  ci sono 2 e\n",
      "Nella parola Orologio  ci sono 0 e\n",
      "Nella parola Cesta  ci sono 1 e\n",
      "Nella parola Ermellino  ci sono 2 e\n",
      "In totale ci sono 20 e\n"
     ]
    }
   ],
   "source": [
    "#ESERCIZIO 12: Abbiamo una lista di parole:stampiamo, per ogni parola, quante volte appare la lettera \"e\"; \n",
    "#facciamo attenzione al fatto che appare sia maiuscola che minuscola.\n",
    "\n",
    "parole = [\"Albergo\", \"Sedia\", \"Borgo\", \"Petalo\", \"Eremo\", \"Belvedere\", \"Semestre\", \"Esteta\", \"Sosta\", \"Orpello\", \"Abete\", \"Orologio\", \"Cesta\", \"Ermellino\"]\n",
    "totale = 0\n",
    "for parola in parole:\n",
    "    conteggio = parola.lower().count(\"e\")\n",
    "    print(\"Nella parola\", parola,\" ci sono\", conteggio, \"e\")\n",
    "    totale += conteggio\n",
    "\n",
    "print(\"In totale ci sono\", totale, \"e\")\n"
   ]
  },
  {
   "cell_type": "code",
   "execution_count": 10,
   "id": "3636fdc5-7b9e-498d-a690-556f41b54097",
   "metadata": {},
   "outputs": [
    {
     "name": "stdout",
     "output_type": "stream",
     "text": [
      "{'Ada': 'Punto', 'Ben': 'Multipla', 'Charlie': 'Golf', 'Debbie': '107'}\n",
      "L'auto associata a Debbie è la 107\n"
     ]
    }
   ],
   "source": [
    "#ESERCIZIO 13: Creiamo un dizionario che assegni ad ogni proprietario la sua auto, Stampiamo il dizionario per intero, e poi l'auto associata a Debbie.\n",
    "Lista_automobili = {\"Ada\": \"Punto\", \"Ben\": \"Multipla\", \"Charlie\" : \"Golf\", \"Debbie\": \"107\"}\n",
    "\n",
    "print(Lista_automobili)\n",
    "print(\"L'auto associata a Debbie è la\", Lista_automobili[\"Debbie\"])"
   ]
  },
  {
   "cell_type": "code",
   "execution_count": 58,
   "id": "06d25417-9bd0-4407-acdd-60a18cdbd36f",
   "metadata": {},
   "outputs": [
    {
     "name": "stdout",
     "output_type": "stream",
     "text": [
      "Punto\n",
      "Golf\n",
      "107\n"
     ]
    }
   ],
   "source": [
    "#ESERCIZIO 14: Abbiamo un dizionario che assegna ad ogni proprietario la sua auto:Con un ciclo, e usando il metodo .values(), \n",
    "#stampiamo a video tutte le auto che non sono una Multipla.\n",
    "Lista_automobili = {\"Ada\": \"Punto\", \"Ben\": \"Multipla\", \"Charlie\" : \"Golf\", \"Debbie\": \"107\"}\n",
    "\n",
    "for automobile in Lista_automobili.values():\n",
    "    if automobile != \"Multipla\":\n",
    "        print(automobile)\n"
   ]
  },
  {
   "cell_type": "code",
   "execution_count": 39,
   "id": "adf1b3bf-9d99-4587-9c3b-1d974e086ab3",
   "metadata": {},
   "outputs": [
    {
     "name": "stdout",
     "output_type": "stream",
     "text": [
      "{'Ada': 'Punto', 'Ben': 'Polo', 'Charlie': 'Golf', 'Debbie': '107', 'Emily': 'A1', 'Fred': 'Octavia', 'Grace': 'Yaris', 'Hugh': 'Clio'}\n"
     ]
    }
   ],
   "source": [
    "#ESERCIZIO 15: Abbiamo due dizionari che assegnano ad ogni proprietario la propria auto:Aggiornare il dizionario dizionario_auto con i dati \n",
    "#contenuti in nuovi_proprietari e stamparlo. Cosa è successo a Ben?\n",
    "dizionario_auto = {\"Ada\": \"Punto\", \"Ben\": \"Multipla\", \"Charlie\": \"Golf\", \"Debbie\": \"107\", \"Emily\": \"A1\"} \n",
    "nuovi_proprietari = {\"Ben\": \"Polo\", \"Fred\": \"Octavia\", \"Grace\": \"Yaris\", \"Hugh\": \"Clio\"}\n",
    "\n",
    "dizionario_auto.update(nuovi_proprietari)\n",
    "print (dizionario_auto)"
   ]
  },
  {
   "cell_type": "code",
   "execution_count": null,
   "id": "fdb4ccaf-9543-4c8a-b823-76cc1c74b36b",
   "metadata": {},
   "outputs": [],
   "source": []
  }
 ],
 "metadata": {
  "kernelspec": {
   "display_name": "Python [conda env:base] *",
   "language": "python",
   "name": "conda-base-py"
  },
  "language_info": {
   "codemirror_mode": {
    "name": "ipython",
    "version": 3
   },
   "file_extension": ".py",
   "mimetype": "text/x-python",
   "name": "python",
   "nbconvert_exporter": "python",
   "pygments_lexer": "ipython3",
   "version": "3.12.7"
  }
 },
 "nbformat": 4,
 "nbformat_minor": 5
}
